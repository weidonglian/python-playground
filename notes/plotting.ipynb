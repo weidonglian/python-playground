{
 "cells": [
  {
   "cell_type": "code",
   "execution_count": null,
   "id": "initial_id",
   "metadata": {
    "collapsed": true
   },
   "outputs": [],
   "source": [
    "import matplotlib.pyplot as plt\n",
    "import numpy as np\n",
    "\n",
    "if __name__ == '__main__':\n",
    "    # Create the vectors X and Y\n",
    "    exponent = -1.5\n",
    "    const_exp = 0.77686983985157021\n",
    "    x = np.array(range(0, 60))\n",
    "    y = (1.0 - np.exp(exponent * x / 60)) / const_exp\n",
    "\n",
    "    # Create the plot\n",
    "    plt.plot(x, y)\n",
    "\n",
    "    # Show the plot\n",
    "    plt.show()"
   ]
  }
 ],
 "metadata": {
  "kernelspec": {
   "display_name": "Python 3",
   "language": "python",
   "name": "python3"
  },
  "language_info": {
   "codemirror_mode": {
    "name": "ipython",
    "version": 2
   },
   "file_extension": ".py",
   "mimetype": "text/x-python",
   "name": "python",
   "nbconvert_exporter": "python",
   "pygments_lexer": "ipython2",
   "version": "2.7.6"
  }
 },
 "nbformat": 4,
 "nbformat_minor": 5
}
