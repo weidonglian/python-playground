{
 "cells": [
  {
   "metadata": {},
   "cell_type": "markdown",
   "source": "Demonstrates the use of class methods, instance methods, and static methods in Python.",
   "id": "493f7449dda09928"
  },
  {
   "cell_type": "code",
   "id": "initial_id",
   "metadata": {
    "collapsed": true,
    "ExecuteTime": {
     "end_time": "2025-02-15T21:54:45.931512Z",
     "start_time": "2025-02-15T21:54:45.927633Z"
    }
   },
   "source": [
    "class Example:\n",
    "    class_variable1: str = \"class variable\"\n",
    "    class_variable2: int = 0\n",
    "\n",
    "    def __init__(self, instance_variable1: str, instance_variable2: int):\n",
    "        self.instance_variable1 = instance_variable1\n",
    "        self.instance_variable2 = instance_variable2\n",
    "\n",
    "    def instance_method(self) -> str:\n",
    "        return f\"{self.instance_variable1} and {self.instance_variable2}\"\n",
    "\n",
    "    @classmethod\n",
    "    def class_method(cls) -> str:\n",
    "        return f\"{cls.class_variable1} and {cls.class_variable2}\"\n",
    "\n",
    "    @classmethod\n",
    "    def factory_method(cls, idx: int) -> 'Example':\n",
    "        return cls(f\"instance variable {idx}\", idx)\n",
    "\n",
    "    @staticmethod\n",
    "    def static_method() -> str:\n",
    "        return \"static method no access to class or instance scoped variables, pure utility function\"\n",
    "\n",
    "\n",
    "if __name__ == '__main__':\n",
    "    inst1 = Example(\"instance variable 1\", 1)\n",
    "    print(inst1.instance_method())\n",
    "    print(inst1.class_method())\n",
    "    print(inst1.static_method())\n",
    "    inst2 = Example.factory_method(2)\n",
    "    print(inst2.instance_method())\n",
    "    inst3 = Example.factory_method(3)\n",
    "    print(inst3.instance_method())"
   ],
   "outputs": [
    {
     "name": "stdout",
     "output_type": "stream",
     "text": [
      "instance variable 1 and 1\n",
      "class variable and 0\n",
      "static method no access to class or instance scoped variables, pure utility function\n",
      "instance variable 2 and 2\n",
      "instance variable 3 and 3\n"
     ]
    }
   ],
   "execution_count": 10
  }
 ],
 "metadata": {
  "kernelspec": {
   "display_name": "Python 3",
   "language": "python",
   "name": "python3"
  },
  "language_info": {
   "codemirror_mode": {
    "name": "ipython",
    "version": 2
   },
   "file_extension": ".py",
   "mimetype": "text/x-python",
   "name": "python",
   "nbconvert_exporter": "python",
   "pygments_lexer": "ipython2",
   "version": "2.7.6"
  }
 },
 "nbformat": 4,
 "nbformat_minor": 5
}
