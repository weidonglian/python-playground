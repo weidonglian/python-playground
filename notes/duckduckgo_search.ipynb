{
 "cells": [
  {
   "cell_type": "code",
   "execution_count": 13,
   "metadata": {
    "ExecuteTime": {
     "end_time": "2023-05-25T20:08:59.385526300Z",
     "start_time": "2023-05-25T20:08:58.337224Z"
    }
   },
   "outputs": [
    {
     "name": "stderr",
     "output_type": "stream",
     "text": [
      "DEBUG:urllib3.connectionpool:Starting new HTTPS connection (1): duckduckgo.com:443\n",
      "DEBUG:urllib3.connectionpool:https://duckduckgo.com:443 \"POST / HTTP/1.1\" 200 None\n",
      "DEBUG:urllib3.connectionpool:Starting new HTTPS connection (1): links.duckduckgo.com:443\n",
      "DEBUG:urllib3.connectionpool:https://links.duckduckgo.com:443 \"GET /d.js?q=hello&l=wt-wt&p=-1&s=0&o=json&vqd=4-209117428155085953299371879591557832567 HTTP/1.1\" 202 None\n",
      "DEBUG:urllib3.connectionpool:https://links.duckduckgo.com:443 \"GET /d.js?q=hello&l=wt-wt&p=-1&s=0&o=json&vqd=4-209117428155085953299371879591557832567 HTTP/1.1\" 202 None\n",
      "DEBUG:urllib3.connectionpool:https://links.duckduckgo.com:443 \"GET /d.js?q=hello&l=wt-wt&p=-1&s=0&o=json&vqd=4-209117428155085953299371879591557832567 HTTP/1.1\" 202 None\n",
      "DEBUG:urllib3.connectionpool:https://links.duckduckgo.com:443 \"GET /d.js?q=hello&l=wt-wt&p=-1&s=0&o=json&vqd=4-209117428155085953299371879591557832567 HTTP/1.1\" 202 None\n",
      "DEBUG:urllib3.connectionpool:https://links.duckduckgo.com:443 \"GET /d.js?q=hello&l=wt-wt&p=-1&s=0&o=json&vqd=4-209117428155085953299371879591557832567 HTTP/1.1\" 202 None\n",
      "DEBUG:urllib3.connectionpool:https://links.duckduckgo.com:443 \"GET /d.js?q=hello&l=wt-wt&p=-1&s=0&o=json&vqd=4-209117428155085953299371879591557832567 HTTP/1.1\" 202 None\n",
      "DEBUG:urllib3.connectionpool:https://links.duckduckgo.com:443 \"GET /d.js?q=hello&l=wt-wt&p=-1&s=0&o=json&vqd=4-209117428155085953299371879591557832567 HTTP/1.1\" 202 None\n",
      "DEBUG:urllib3.connectionpool:https://links.duckduckgo.com:443 \"GET /d.js?q=hello&l=wt-wt&p=-1&s=0&o=json&vqd=4-209117428155085953299371879591557832567 HTTP/1.1\" 202 None\n",
      "DEBUG:urllib3.connectionpool:https://links.duckduckgo.com:443 \"GET /d.js?q=hello&l=wt-wt&p=-1&s=0&o=json&vqd=4-209117428155085953299371879591557832567 HTTP/1.1\" 202 None\n",
      "DEBUG:urllib3.connectionpool:https://links.duckduckgo.com:443 \"GET /d.js?q=hello&l=wt-wt&p=-1&s=0&o=json&vqd=4-209117428155085953299371879591557832567 HTTP/1.1\" 202 None\n"
     ]
    }
   ],
   "source": [
    "from duckduckgo_search import DDGS\n",
    "\n",
    "ddgs = DDGS()\n",
    "\n",
    "keywords = 'hello'\n",
    "ddgs_text_gen = ddgs.text(keywords=keywords)\n",
    "for r in ddgs_text_gen:\n",
    "    print(r)"
   ]
  },
  {
   "cell_type": "code",
   "execution_count": null,
   "metadata": {},
   "outputs": [],
   "source": [
    "from duckduckgo_search import DDGS\n",
    "\n",
    "ddgs = DDGS()\n",
    "\n",
    "keywords = 'sun'\n",
    "ddgs_answers_gen = ddgs.answers(keywords)\n",
    "for r in ddgs_answers_gen:\n",
    "    print(r)"
   ]
  },
  {
   "cell_type": "code",
   "execution_count": 16,
   "outputs": [
    {
     "name": "stderr",
     "output_type": "stream",
     "text": [
      "DEBUG:urllib3.connectionpool:Starting new HTTPS connection (1): duckduckgo.com:443\n",
      "DEBUG:socks:Error connecting to SOCKS5 proxy localhost:9150 due to: [WinError 10061] No connection could be made because the target machine actively refused it\n",
      "DEBUG:urllib3.connectionpool:https://duckduckgo.com:443 \"POST / HTTP/1.1\" 200 None\n",
      "DEBUG:urllib3.connectionpool:https://duckduckgo.com:443 \"GET /i.js?l=wt-wt&o=json&s=0&q=dog&vqd=4-264245147231452224960831723762910925536&f=%2C%2C%2C%2C%2C&p=1 HTTP/1.1\" 403 None\n",
      "WARNING:duckduckgo_search.duckduckgo_search:_get_url() https://duckduckgo.com/i.js HTTPError 403 Client Error: Forbidden for url: https://duckduckgo.com/i.js?l=wt-wt&o=json&s=0&q=dog&vqd=4-264245147231452224960831723762910925536&f=%2C%2C%2C%2C%2C&p=1\n",
      "DEBUG:urllib3.connectionpool:https://duckduckgo.com:443 \"GET /i.js?l=wt-wt&o=json&s=0&q=dog&vqd=4-264245147231452224960831723762910925536&f=%2C%2C%2C%2C%2C&p=1 HTTP/1.1\" 403 None\n",
      "WARNING:duckduckgo_search.duckduckgo_search:_get_url() https://duckduckgo.com/i.js HTTPError 403 Client Error: Forbidden for url: https://duckduckgo.com/i.js?l=wt-wt&o=json&s=0&q=dog&vqd=4-264245147231452224960831723762910925536&f=%2C%2C%2C%2C%2C&p=1\n",
      "DEBUG:urllib3.connectionpool:https://duckduckgo.com:443 \"GET /i.js?l=wt-wt&o=json&s=0&q=dog&vqd=4-264245147231452224960831723762910925536&f=%2C%2C%2C%2C%2C&p=1 HTTP/1.1\" 403 None\n",
      "WARNING:duckduckgo_search.duckduckgo_search:_get_url() https://duckduckgo.com/i.js HTTPError 403 Client Error: Forbidden for url: https://duckduckgo.com/i.js?l=wt-wt&o=json&s=0&q=dog&vqd=4-264245147231452224960831723762910925536&f=%2C%2C%2C%2C%2C&p=1\n"
     ]
    },
    {
     "name": "stdout",
     "output_type": "stream",
     "text": [
      "Search images caught an exception: 403 Client Error: Forbidden for url: https://duckduckgo.com/i.js?l=wt-wt&o=json&s=0&q=dog&vqd=4-264245147231452224960831723762910925536&f=%2C%2C%2C%2C%2C&p=1\n"
     ]
    }
   ],
   "source": [
    "import logging\n",
    "from duckduckgo_search import DDGS\n",
    "\n",
    "logging.basicConfig(level=logging.DEBUG)\n",
    "\n",
    "proxies = {\n",
    "    'http': 'socks5h://localhost:9150',\n",
    "    'https': 'socks5h://localhost:9150',\n",
    "    'no_proxy': 'localhost,127.0.0.1',\n",
    "}\n",
    "\n",
    "ddgs = DDGS(proxies=proxies)\n",
    "# ddgs = DDGS()\n",
    "try:\n",
    "    ddgs_images_gen = ddgs.images(keywords='dog')\n",
    "    for i in ddgs_images_gen:\n",
    "        print(i)\n",
    "except Exception as e:\n",
    "    print(f\"Search images caught an exception: {e}\")"
   ],
   "metadata": {
    "collapsed": false,
    "ExecuteTime": {
     "end_time": "2023-05-25T20:18:39.613601500Z",
     "start_time": "2023-05-25T20:18:33.482956200Z"
    }
   }
  },
  {
   "cell_type": "code",
   "execution_count": null,
   "outputs": [],
   "source": [],
   "metadata": {
    "collapsed": false
   }
  }
 ],
 "metadata": {
  "kernelspec": {
   "display_name": "Python 3 (ipykernel)",
   "language": "python",
   "name": "python3"
  },
  "language_info": {
   "codemirror_mode": {
    "name": "ipython",
    "version": 3
   },
   "file_extension": ".py",
   "mimetype": "text/x-python",
   "name": "python",
   "nbconvert_exporter": "python",
   "pygments_lexer": "ipython3",
   "version": "3.11.3"
  }
 },
 "nbformat": 4,
 "nbformat_minor": 1
}
