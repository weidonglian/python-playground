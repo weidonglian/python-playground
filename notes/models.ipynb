{
 "cells": [
  {
   "cell_type": "code",
   "execution_count": null,
   "id": "initial_id",
   "metadata": {
    "collapsed": true
   },
   "outputs": [],
   "source": [
    "from dataclasses import dataclass\n",
    "\n",
    "# for simple data classes, we can use the @dataclass decorator\n",
    "# for more complex data classes, we should pydantic\n",
    "\n",
    "def area(length: float, height: float) -> float:\n",
    "    return length * height\n",
    "\n",
    "\n",
    "@dataclass\n",
    "class Person:\n",
    "    name: str\n",
    "    address: str\n",
    "    salary: float\n",
    "\n",
    "    def total_info(self) -> str:\n",
    "        return f\"{self.name} and {self.address}\"\n",
    "\n",
    "    def calculate(self, new_salary: float) -> float:\n",
    "        return self.salary + new_salary\n",
    "\n",
    "\n",
    "if __name__ == '__main__':\n",
    "    p = Person(\"John\", \"USA\", 100.0)\n",
    "    print(p.total_info())\n",
    "    print(p.calculate(100.0))"
   ]
  }
 ],
 "metadata": {
  "kernelspec": {
   "display_name": "Python 3",
   "language": "python",
   "name": "python3"
  },
  "language_info": {
   "codemirror_mode": {
    "name": "ipython",
    "version": 2
   },
   "file_extension": ".py",
   "mimetype": "text/x-python",
   "name": "python",
   "nbconvert_exporter": "python",
   "pygments_lexer": "ipython2",
   "version": "2.7.6"
  }
 },
 "nbformat": 4,
 "nbformat_minor": 5
}
