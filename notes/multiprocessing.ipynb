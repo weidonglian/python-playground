{
 "cells": [
  {
   "metadata": {},
   "cell_type": "markdown",
   "source": [
    "# examples of multiprocessing\n",
    "\n",
    "#### Simple example of using multiprocessing.Pool.map to double numbers in a list"
   ],
   "id": "500ae40d29ae2356"
  },
  {
   "cell_type": "code",
   "id": "initial_id",
   "metadata": {
    "collapsed": true,
    "ExecuteTime": {
     "end_time": "2025-02-15T21:33:27.059112Z",
     "start_time": "2025-02-15T21:33:27.015887Z"
    }
   },
   "source": [
    "from multiprocessing import Pool\n",
    "\n",
    "def doubler(number: int) -> int:\n",
    "    return number * 2\n",
    "\n",
    "if __name__ == '__main__':\n",
    "    numbers = [5, 10, 20]\n",
    "    pool = Pool(processes=3)\n",
    "    print(pool.map(doubler, numbers))"
   ],
   "outputs": [
    {
     "name": "stdout",
     "output_type": "stream",
     "text": [
      "[10, 20, 40]\n"
     ]
    }
   ],
   "execution_count": 1
  },
  {
   "metadata": {},
   "cell_type": "markdown",
   "source": "#### Example of using multiprocessing.Pool.map to print numbers in a list",
   "id": "d6ddc09dbd0cc795"
  },
  {
   "metadata": {},
   "cell_type": "code",
   "outputs": [],
   "execution_count": null,
   "source": [
    "import multiprocessing as mp\n",
    "\n",
    "items: [int] = [0] * 10\n",
    "\n",
    "def do_print(i: int):\n",
    "    print(i)\n",
    "    items[i] = i * 2 + 1\n",
    "\n",
    "if __name__ == '__main__':\n",
    "    p = mp.Pool(4)\n",
    "    p.map(do_print, range(0, 10))  # range(0,1000) if you want to replicate your example\n",
    "    p.close()\n",
    "    p.join()\n",
    "    # do_print is called in parallel, and spawns 4 processes to do the work\n",
    "    # the results are stored in the items list resided in spawned processes\n",
    "    # the main process waits for all spawned processes to finish\n",
    "    # and then prints the results, the items list in the main process\n",
    "    # should remain unchanged after the map call, i.e. [0, 0, 0, 0, 0, 0, 0, 0, 0, 0]\n",
    "    print(\"items should keep the same\", items)"
   ],
   "id": "b1dc60be4088d62e"
  }
 ],
 "metadata": {
  "kernelspec": {
   "display_name": "Python 3",
   "language": "python",
   "name": "python3"
  },
  "language_info": {
   "codemirror_mode": {
    "name": "ipython",
    "version": 2
   },
   "file_extension": ".py",
   "mimetype": "text/x-python",
   "name": "python",
   "nbconvert_exporter": "python",
   "pygments_lexer": "ipython2",
   "version": "2.7.6"
  }
 },
 "nbformat": 4,
 "nbformat_minor": 5
}
