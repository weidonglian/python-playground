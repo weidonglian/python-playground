{
 "cells": [
  {
   "attachments": {},
   "cell_type": "markdown",
   "metadata": {
    "collapsed": false
   },
   "source": [
    "We can run Tor on Windows by installing the Tor Browser or the Tor expert bundle. The Tor Browser is the simplest method, but if you want to use Tor for something other than web browsing, or you need to make Tor requests from Python, you may want to use the expert bundle."
   ]
  },
  {
   "cell_type": "code",
   "execution_count": 1,
   "metadata": {
    "collapsed": false,
    "ExecuteTime": {
     "end_time": "2023-05-30T21:47:47.690983544Z",
     "start_time": "2023-05-30T21:47:43.483561879Z"
    }
   },
   "outputs": [
    {
     "name": "stdout",
     "output_type": "stream",
     "text": [
      "{\n",
      "  \"origin\": \"185.220.101.143\"\n",
      "}\n",
      "\n",
      "{\n",
      "  \"origin\": \"185.220.101.143\"\n",
      "}\n",
      "\n"
     ]
    }
   ],
   "source": [
    "import requests\n",
    "\n",
    "# Defines the proxies for HTTP and HTTPS\n",
    "proxies = {\n",
    "    'http': 'socks5h://localhost:9050',\n",
    "    'https': 'socks5h://localhost:9050'\n",
    "}\n",
    "\n",
    "# Using the proxies for a requests.get call\n",
    "r = requests.get('http://httpbin.org/ip', proxies=proxies)\n",
    "print(r.text)\n",
    "\n",
    "# Using the proxies for a requests.get call\n",
    "r = requests.get('https://httpbin.org/ip', proxies=proxies)\n",
    "print(r.text)"
   ]
  },
  {
   "cell_type": "code",
   "execution_count": null,
   "metadata": {
    "collapsed": false
   },
   "outputs": [],
   "source": []
  }
 ],
 "metadata": {
  "kernelspec": {
   "display_name": "Python 3",
   "language": "python",
   "name": "python3"
  },
  "language_info": {
   "codemirror_mode": {
    "name": "ipython",
    "version": 3
   },
   "file_extension": ".py",
   "mimetype": "text/x-python",
   "name": "python",
   "nbconvert_exporter": "python",
   "pygments_lexer": "ipython3",
   "version": "3.11.3"
  }
 },
 "nbformat": 4,
 "nbformat_minor": 0
}
